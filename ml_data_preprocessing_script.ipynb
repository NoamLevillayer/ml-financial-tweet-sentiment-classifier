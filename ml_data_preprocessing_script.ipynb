{
 "cells": [
  {
   "cell_type": "markdown",
   "metadata": {},
   "source": [
    "DATA PRE-PROCESING"
   ]
  },
  {
   "cell_type": "code",
   "execution_count": 1,
   "metadata": {},
   "outputs": [],
   "source": [
    "#Libs\n",
    "import pandas as pd\n",
    "import re\n",
    "import nltk\n",
    "from nltk.corpus import stopwords\n",
    "from nltk.stem import WordNetLemmatizer\n",
    "from sklearn.feature_extraction.text import CountVectorizer, TfidfVectorizer\n"
   ]
  },
  {
   "cell_type": "code",
   "execution_count": null,
   "metadata": {},
   "outputs": [],
   "source": [
    "##nltk ressources\n",
    "#nltk.download('punkt')\n",
    "#nltk.download('wordnet')\n",
    "#nltk.download('stopwords')\n",
    "#nltk.download('omw-1.4')"
   ]
  },
  {
   "cell_type": "code",
   "execution_count": null,
   "metadata": {},
   "outputs": [],
   "source": [
    "df_tweets = pd.read_excel('Data/tweets_raw.xlsx')"
   ]
  },
  {
   "cell_type": "code",
   "execution_count": 3,
   "metadata": {},
   "outputs": [],
   "source": [
    "#initiate lemmatizer\n",
    "lemmatizer = WordNetLemmatizer()"
   ]
  },
  {
   "cell_type": "code",
   "execution_count": 4,
   "metadata": {},
   "outputs": [],
   "source": [
    "#function to clean the text and lemmatize it (i.e taking the root of the words)\n",
    "def clean_and_lemmatize(text):\n",
    "    text = text.lower() \n",
    "    text = re.sub(r'\\$\\w+', '', text) #supress actions/tickers\n",
    "    text = re.sub(r'http\\S+|www.\\S+', '', text) #supress url\n",
    "    text = re.sub(r'[^a-z\\s]', '', text) #supress special character and number\n",
    "    tokens = nltk.word_tokenize(text)\n",
    "    tokens = [word for word in tokens if word not in stopwords.words('english')]\n",
    "    lemmas = [lemmatizer.lemmatize(token) for token in tokens]\n",
    "    return ' '.join(lemmas)"
   ]
  },
  {
   "cell_type": "code",
   "execution_count": 5,
   "metadata": {},
   "outputs": [],
   "source": [
    "df_tweets['clean_text'] = df_tweets['text'].apply(clean_and_lemmatize)"
   ]
  },
  {
   "cell_type": "code",
   "execution_count": null,
   "metadata": {},
   "outputs": [],
   "source": [
    "#Arranging the df\n",
    "df_tweets = df_tweets.drop(columns=['text'])\n",
    "df_tweets = df_tweets[['clean_text', 'label']]\n",
    "df_tweets.to_csv('Data/tweets_cleaned.csv',index= False)"
   ]
  },
  {
   "cell_type": "markdown",
   "metadata": {},
   "source": [
    "VECTORIZATION"
   ]
  },
  {
   "cell_type": "code",
   "execution_count": null,
   "metadata": {},
   "outputs": [],
   "source": [
    "#Vectorization by TF-IDF\n",
    "\n",
    "tfidf_vectorizer = TfidfVectorizer(max_features=2500)\n",
    "X_tfidf = tfidf_vectorizer.fit_transform(df_tweets['clean_text'])\n",
    "\n",
    "#dataframe conversion\n",
    "df_tfidf = pd.DataFrame(X_tfidf.toarray(), \n",
    "                        columns=tfidf_vectorizer.get_feature_names_out())\n",
    "\n",
    "#add label column\n",
    "df_tfidf['label'] = df_tweets['label'].values"
   ]
  },
  {
   "cell_type": "code",
   "execution_count": 23,
   "metadata": {},
   "outputs": [],
   "source": [
    "#Vectorization by Bag of Word(BOW)\n",
    "\n",
    "bow_vectorizer = CountVectorizer(max_features=2500)\n",
    "X_bow = bow_vectorizer.fit_transform(df_tweets['clean_text'])\n",
    "\n",
    "#dataframe conversion\n",
    "\n",
    "df_bow = pd.DataFrame(X_bow.toarray(), \n",
    "                      columns=bow_vectorizer.get_feature_names_out())\n",
    "\n",
    "#add label column\n",
    "df_bow['label'] = df_tweets['label'].values"
   ]
  },
  {
   "cell_type": "code",
   "execution_count": null,
   "metadata": {},
   "outputs": [],
   "source": [
    "#Saving the result as CSV\n",
    "\n",
    "#TF-IDF\n",
    "df_tfidf.to_csv('Data/tweets_tfidf.csv', index=False)\n",
    "\n",
    "#BOW\n",
    "df_bow.to_csv('Data/tweets_bow.csv', index=False)"
   ]
  }
 ],
 "metadata": {
  "kernelspec": {
   "display_name": "Python 3",
   "language": "python",
   "name": "python3"
  },
  "language_info": {
   "codemirror_mode": {
    "name": "ipython",
    "version": 3
   },
   "file_extension": ".py",
   "mimetype": "text/x-python",
   "name": "python",
   "nbconvert_exporter": "python",
   "pygments_lexer": "ipython3",
   "version": "3.13.2"
  }
 },
 "nbformat": 4,
 "nbformat_minor": 2
}
