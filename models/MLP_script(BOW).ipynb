{
 "cells": [
  {
   "cell_type": "code",
   "execution_count": null,
   "metadata": {},
   "outputs": [],
   "source": [
    "#Libs\n",
    "import pandas as pd\n",
    "import numpy as np"
   ]
  },
  {
   "cell_type": "code",
   "execution_count": 2,
   "metadata": {},
   "outputs": [],
   "source": [
    "df_bow = pd.read_csv(r'C:\\Users\\nolev\\Desktop\\M1 Econometrics\\Machine Learning\\Data\\tweets_bow.csv')"
   ]
  },
  {
   "cell_type": "markdown",
   "metadata": {},
   "source": [
    "Binary classification"
   ]
  },
  {
   "cell_type": "code",
   "execution_count": 3,
   "metadata": {},
   "outputs": [],
   "source": [
    "df_bow['binary_label'] = df_bow['label'].apply(lambda x: 0 if x == 0 else 1) # 0 if negagative 1 else"
   ]
  },
  {
   "cell_type": "markdown",
   "metadata": {},
   "source": [
    "Splitting the data for train/test"
   ]
  },
  {
   "cell_type": "code",
   "execution_count": 4,
   "metadata": {},
   "outputs": [],
   "source": [
    "X = df_bow.drop(columns=['label', 'binary_label'])\n",
    "y = df_bow['binary_label']"
   ]
  },
  {
   "cell_type": "code",
   "execution_count": 5,
   "metadata": {},
   "outputs": [],
   "source": [
    "from sklearn.model_selection import train_test_split\n",
    "x_train, x_test, y_train, y_test = train_test_split(X, y, test_size=0.25, random_state=42)"
   ]
  },
  {
   "cell_type": "markdown",
   "metadata": {},
   "source": [
    "Implement MLP(Multi-layer Perceptron)"
   ]
  },
  {
   "cell_type": "code",
   "execution_count": 6,
   "metadata": {},
   "outputs": [],
   "source": [
    "from sklearn.neural_network import MLPClassifier\n",
    "from sklearn.metrics import classification_report\n",
    "import time"
   ]
  },
  {
   "cell_type": "code",
   "execution_count": 7,
   "metadata": {},
   "outputs": [
    {
     "name": "stdout",
     "output_type": "stream",
     "text": [
      "Execution time : 56.66 seconds\n",
      "Scoring board :\n",
      "\n",
      "              precision    recall  f1-score   support\n",
      "\n",
      "    Negative     0.5994    0.5199    0.5568       377\n",
      "Non-negative     0.9121    0.9348    0.9233      2009\n",
      "\n",
      "    accuracy                         0.8692      2386\n",
      "   macro avg     0.7557    0.7273    0.7401      2386\n",
      "weighted avg     0.8627    0.8692    0.8654      2386\n",
      "\n",
      "\n",
      " Used hyperparameter:\n",
      " - hidden_layer_sizes = (100,)\n",
      " - max_iter = 300\n"
     ]
    }
   ],
   "source": [
    "start_time = time.time()\n",
    "\n",
    "mlp = MLPClassifier(hidden_layer_sizes=(100,), max_iter=300, random_state=42)\n",
    "mlp.fit(x_train, y_train)\n",
    "y_pred = mlp.predict(x_test)\n",
    "\n",
    "end_time = time.time()\n",
    "elapsed_time = end_time - start_time\n",
    "\n",
    "print(\"Execution time : {:.2f} seconds\".format(elapsed_time))\n",
    "print(\"Scoring board :\\n\")\n",
    "print(classification_report(y_test, y_pred, target_names=['Negative', 'Non-negative'], digits=4))\n",
    "\n",
    "print(\"\\n Used hyperparameter:\")\n",
    "print(f\" - hidden_layer_sizes = {mlp.hidden_layer_sizes}\")\n",
    "print(f\" - max_iter = {mlp.max_iter}\")"
   ]
  }
 ],
 "metadata": {
  "kernelspec": {
   "display_name": "Python 3",
   "language": "python",
   "name": "python3"
  },
  "language_info": {
   "codemirror_mode": {
    "name": "ipython",
    "version": 3
   },
   "file_extension": ".py",
   "mimetype": "text/x-python",
   "name": "python",
   "nbconvert_exporter": "python",
   "pygments_lexer": "ipython3",
   "version": "3.13.2"
  }
 },
 "nbformat": 4,
 "nbformat_minor": 2
}
