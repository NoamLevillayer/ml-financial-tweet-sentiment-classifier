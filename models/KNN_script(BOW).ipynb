{
 "cells": [
  {
   "cell_type": "code",
   "execution_count": 4,
   "metadata": {},
   "outputs": [],
   "source": [
    "#Libs\n",
    "import pandas as pd\n",
    "import numpy as np"
   ]
  },
  {
   "cell_type": "code",
   "execution_count": 5,
   "metadata": {},
   "outputs": [],
   "source": [
    "df_bow = pd.read_csv(r'C:\\Users\\nolev\\Desktop\\M1 Econometrics\\Machine Learning\\Data\\tweets_bow.csv')"
   ]
  },
  {
   "cell_type": "markdown",
   "metadata": {},
   "source": [
    "Binary classification"
   ]
  },
  {
   "cell_type": "code",
   "execution_count": 6,
   "metadata": {},
   "outputs": [],
   "source": [
    "df_bow['binary_label'] = df_bow['label'].apply(lambda x: 0 if x == 0 else 1) # 0 if negagative 1 else"
   ]
  },
  {
   "cell_type": "markdown",
   "metadata": {},
   "source": [
    "Splitting the data for train/test"
   ]
  },
  {
   "cell_type": "code",
   "execution_count": 7,
   "metadata": {},
   "outputs": [],
   "source": [
    "X = df_bow.drop(columns=['label', 'binary_label'])\n",
    "y = df_bow['binary_label']"
   ]
  },
  {
   "cell_type": "code",
   "execution_count": 8,
   "metadata": {},
   "outputs": [],
   "source": [
    "from sklearn.model_selection import train_test_split\n",
    "x_train, x_test, y_train, y_test = train_test_split(X, y, test_size=0.25, random_state=42)"
   ]
  },
  {
   "cell_type": "markdown",
   "metadata": {},
   "source": [
    "Implement KNN"
   ]
  },
  {
   "cell_type": "code",
   "execution_count": 9,
   "metadata": {},
   "outputs": [],
   "source": [
    "#Libs\n",
    "from sklearn.neighbors import KNeighborsClassifier\n",
    "from sklearn.metrics import classification_report\n",
    "import time"
   ]
  },
  {
   "cell_type": "code",
   "execution_count": null,
   "metadata": {},
   "outputs": [
    {
     "name": "stdout",
     "output_type": "stream",
     "text": [
      "Execution time : 0.78 seconds\n",
      "Scoring board :\n",
      "\n",
      "              precision    recall  f1-score   support\n",
      "\n",
      "    Negative     0.5775    0.2865    0.3830       377\n",
      "Non-negative     0.8777    0.9607    0.9173      2009\n",
      "\n",
      "    accuracy                         0.8541      2386\n",
      "   macro avg     0.7276    0.6236    0.6501      2386\n",
      "weighted avg     0.8302    0.8541    0.8329      2386\n",
      "\n",
      "Used hyperparameter : n_neighbors = 1\n"
     ]
    }
   ],
   "source": [
    "start_time = time.time()\n",
    "\n",
    "knn = KNeighborsClassifier(n_neighbors=1)\n",
    "knn.fit(x_train, y_train)\n",
    "y_pred = knn.predict(x_test)\n",
    "\n",
    "end_time = time.time()\n",
    "elapsed_time = end_time - start_time\n",
    "\n",
    "print(\"Execution time : {:.2f} seconds\".format(elapsed_time))\n",
    "print(\"Scoring board :\\n\")\n",
    "print(classification_report(y_test, y_pred, target_names=['Negative', 'Non-negative'], digits=4))\n",
    "\n",
    "print(\"Used hyperparameter : n_neighbors =\", knn.n_neighbors)"
   ]
  },
  {
   "cell_type": "code",
   "execution_count": 11,
   "metadata": {},
   "outputs": [
    {
     "name": "stdout",
     "output_type": "stream",
     "text": [
      "Résults for each k :\n",
      "k = 1 → weighted f1-score = 0.8329\n",
      "k = 2 → weighted f1-score = 0.8273\n",
      "k = 3 → weighted f1-score = 0.8148\n",
      "k = 4 → weighted f1-score = 0.8154\n",
      "k = 5 → weighted f1-score = 0.8046\n",
      "k = 6 → weighted f1-score = 0.8048\n",
      "k = 7 → weighted f1-score = 0.7982\n",
      "k = 8 → weighted f1-score = 0.7988\n",
      "k = 9 → weighted f1-score = 0.7973\n",
      "k = 10 → weighted f1-score = 0.7974\n",
      "k = 11 → weighted f1-score = 0.7973\n",
      "k = 12 → weighted f1-score = 0.7988\n",
      "k = 13 → weighted f1-score = 0.7947\n",
      "k = 14 → weighted f1-score = 0.7949\n",
      "k = 15 → weighted f1-score = 0.7901\n",
      "k = 16 → weighted f1-score = 0.7927\n",
      "k = 17 → weighted f1-score = 0.7890\n",
      "k = 18 → weighted f1-score = 0.7899\n",
      "k = 19 → weighted f1-score = 0.7880\n",
      "k = 20 → weighted f1-score = 0.7890\n",
      "\n",
      "✅ Best k = 1 with an f1-score of 0.8329\n"
     ]
    }
   ],
   "source": [
    "#Whats the best hyperparameter\n",
    "from sklearn.metrics import f1_score\n",
    "\n",
    "# Tester k de 1 à 20\n",
    "best_k = None\n",
    "best_score = 0\n",
    "scores = []\n",
    "\n",
    "for k in range(1, 21):\n",
    "    knn = KNeighborsClassifier(n_neighbors=k)\n",
    "    knn.fit(x_train, y_train)\n",
    "    y_pred = knn.predict(x_test)\n",
    "\n",
    "    f1 = f1_score(y_test, y_pred, average='weighted')\n",
    "    scores.append((k, f1))\n",
    "\n",
    "    if f1 > best_score:\n",
    "        best_score = f1\n",
    "        best_k = k\n",
    "\n",
    "print(\"Résults for each k :\")\n",
    "for k, score in scores:\n",
    "    print(f\"k = {k} → weighted f1-score = {score:.4f}\")\n",
    "\n",
    "print(f\"\\n✅ Best k = {best_k} with an f1-score of {best_score:.4f}\")\n"
   ]
  }
 ],
 "metadata": {
  "kernelspec": {
   "display_name": "Python 3",
   "language": "python",
   "name": "python3"
  },
  "language_info": {
   "codemirror_mode": {
    "name": "ipython",
    "version": 3
   },
   "file_extension": ".py",
   "mimetype": "text/x-python",
   "name": "python",
   "nbconvert_exporter": "python",
   "pygments_lexer": "ipython3",
   "version": "3.13.2"
  }
 },
 "nbformat": 4,
 "nbformat_minor": 2
}
