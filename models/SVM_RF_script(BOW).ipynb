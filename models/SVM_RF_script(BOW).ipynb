{
  "nbformat": 4,
  "nbformat_minor": 0,
  "metadata": {
    "colab": {
      "provenance": []
    },
    "kernelspec": {
      "name": "python3",
      "display_name": "Python 3"
    },
    "language_info": {
      "name": "python"
    }
  },
  "cells": [
    {
      "cell_type": "code",
      "execution_count": null,
      "metadata": {
        "id": "FL9vWEI8wYTW"
      },
      "outputs": [],
      "source": [
        "import pandas as pd\n",
        "\n",
        "tweet_bow = pd.read_csv(r\"C:\\Users\\aubin\\OneDrive - Aix-Marseille Université\\AIX EN PROVENCE\\MASTER 1 ECONOMETRIE STATISTIQUE\\S2\\Machine_Learning\\projet_final\\data\\tweets_bow (1).csv\")\n",
        "\n",
        "print(tweet_bow.columns)\n",
        "print(tweet_bow.head())\n",
        "\n",
        "tweet_bow['label_binary'] = tweet_bow['label'].apply(lambda x: 0 if x==0 else 1)\n",
        "tweet_bow = tweet_bow.drop(columns=['label'])\n",
        "\n",
        "\n",
        "from sklearn.model_selection import train_test_split\n",
        "\n",
        "X = tweet_bow.drop(columns=['label_binary'])\n",
        "y = tweet_bow['label_binary']\n",
        "\n",
        "X_train, X_test, y_train, y_test = train_test_split(\n",
        "    X, y,\n",
        "    test_size=0.2,\n",
        "    stratify=y,\n",
        "    random_state=42\n",
        ")\n",
        "\n",
        "# Random Forest\n",
        "from sklearn.ensemble import RandomForestClassifier\n",
        "from sklearn.metrics import classification_report\n",
        "\n",
        "rf_model = RandomForestClassifier(\n",
        "    n_estimators=100,\n",
        "    max_depth=None,\n",
        "    random_state=42\n",
        ")\n",
        "\n",
        "import time\n",
        "start = time.time()\n",
        "rf_model.fit(X_train, y_train)\n",
        "end = time.time()\n",
        "\n",
        "y_pred = rf_model.predict(X_test)\n",
        "\n",
        "print('Classification Report:\\n', classification_report(y_test, y_pred, digits=4))\n",
        "print(\"Temps d'entraînement :\", round(end - start, 2), \"secondes\")\n",
        "\n",
        "# SVM (Support Vector Machine)\n",
        "from sklearn.svm import SVC\n",
        "\n",
        "svm_model = SVC(\n",
        "    kernel='linear',\n",
        "    probability=True,\n",
        "    random_state=42\n",
        ")\n",
        "\n",
        "start = time.time()\n",
        "svm_model.fit(X_train, y_train)\n",
        "end = time.time()\n",
        "\n",
        "y_pred_svm = svm_model.predict(X_test)\n",
        "\n",
        "print('Classification Report:\\n',classification_report(y_test, y_pred_svm, digits=4))\n",
        "print(\"Temps d'entraînement :\", round(end - start, 2), \"secondes\")"
      ]
    }
  ]
}